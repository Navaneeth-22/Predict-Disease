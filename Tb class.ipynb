{
 "cells": [
  {
   "cell_type": "code",
   "execution_count": 19,
   "id": "8594cb52",
   "metadata": {},
   "outputs": [],
   "source": [
    "import tensorflow as tf\n",
    "from tensorflow.keras import models, layers\n",
    "import matplotlib.pyplot as plt\n",
    "from tensorflow.keras.preprocessing.image import ImageDataGenerator"
   ]
  },
  {
   "cell_type": "code",
   "execution_count": 23,
   "id": "9e95bd2f",
   "metadata": {},
   "outputs": [],
   "source": [
    "train_datagen = ImageDataGenerator(\n",
    "        rescale=1./255,\n",
    "        shear_range=0.2,\n",
    "        zoom_range=0.2,\n",
    "        horizontal_flip=True)"
   ]
  },
  {
   "cell_type": "code",
   "execution_count": 24,
   "id": "996560e9",
   "metadata": {},
   "outputs": [],
   "source": [
    "IMAGE_SIZE = 512\n",
    "BATCH = 32\n"
   ]
  },
  {
   "cell_type": "code",
   "execution_count": 25,
   "id": "7f1fff41",
   "metadata": {},
   "outputs": [
    {
     "name": "stdout",
     "output_type": "stream",
     "text": [
      "Found 3360 images belonging to 2 classes.\n"
     ]
    }
   ],
   "source": [
    "train_generator = train_datagen.flow_from_directory(\n",
    "        'output/train',\n",
    "        target_size=(512,512),\n",
    "        batch_size=32,\n",
    "        class_mode=\"sparse\",\n",
    "#         save_to_dir=\"C:\\\\Code\\\\potato-disease-classification\\\\training\\\\AugmentedImages\"\n",
    ")"
   ]
  },
  {
   "cell_type": "code",
   "execution_count": null,
   "id": "36ccf20e",
   "metadata": {},
   "outputs": [],
   "source": []
  },
  {
   "cell_type": "code",
   "execution_count": 26,
   "id": "eb3c5d80",
   "metadata": {},
   "outputs": [],
   "source": [
    "val_datagen = ImageDataGenerator(\n",
    "        rescale=1./255,\n",
    "        shear_range=0.2,\n",
    "        zoom_range=0.2,\n",
    "        horizontal_flip=True)"
   ]
  },
  {
   "cell_type": "code",
   "execution_count": 27,
   "id": "53f2f652",
   "metadata": {},
   "outputs": [
    {
     "name": "stdout",
     "output_type": "stream",
     "text": [
      "Found 420 images belonging to 2 classes.\n"
     ]
    }
   ],
   "source": [
    "val_generator = val_datagen.flow_from_directory(\n",
    "        'output/val',\n",
    "        target_size=(512,512),\n",
    "        batch_size=32,\n",
    "        class_mode=\"sparse\",\n",
    "#         save_to_dir=\"C:\\\\Code\\\\potato-disease-classification\\\\training\\\\AugmentedImages\"\n",
    ")"
   ]
  },
  {
   "cell_type": "code",
   "execution_count": 28,
   "id": "0950b48d",
   "metadata": {},
   "outputs": [],
   "source": [
    "test_datagen = ImageDataGenerator(\n",
    "        rescale=1./255,\n",
    "        shear_range=0.2,\n",
    "        zoom_range=0.2,\n",
    "        horizontal_flip=True)"
   ]
  },
  {
   "cell_type": "code",
   "execution_count": 29,
   "id": "34f75e13",
   "metadata": {},
   "outputs": [
    {
     "name": "stdout",
     "output_type": "stream",
     "text": [
      "Found 420 images belonging to 2 classes.\n"
     ]
    }
   ],
   "source": [
    "test_generator = test_datagen.flow_from_directory(\n",
    "        'output/test',\n",
    "        target_size=(512,512),\n",
    "        batch_size=32,\n",
    "        class_mode=\"sparse\",\n",
    "#         save_to_dir=\"C:\\\\Code\\\\potato-disease-classification\\\\training\\\\AugmentedImages\"\n",
    ")"
   ]
  },
  {
   "cell_type": "code",
   "execution_count": 30,
   "id": "43eee691",
   "metadata": {},
   "outputs": [],
   "source": [
    "class_names = [\"Normal\",\"Tuberculosis\"]"
   ]
  },
  {
   "cell_type": "code",
   "execution_count": 31,
   "id": "5e16048c",
   "metadata": {},
   "outputs": [],
   "source": [
    "model = models.Sequential();\n",
    " #cnn \n",
    "    #dense\n"
   ]
  },
  {
   "cell_type": "code",
   "execution_count": 32,
   "id": "29b9a0f3",
   "metadata": {},
   "outputs": [],
   "source": [
    "# model.add(layers.Conv2D(32, (3, 3), activation='relu', input_shape=(512, 512, 3)))\n",
    "# model.add(layers.MaxPooling2D((2, 2)))\n",
    "# model.add(layers.Conv2D(32, (3, 3), activation='relu'))\n",
    "# model.add(layers.MaxPooling2D((2, 2)))\n",
    "# model.add(layers.Conv2D(64, (3, 3), activation='relu'))\n"
   ]
  },
  {
   "cell_type": "code",
   "execution_count": 33,
   "id": "cc3ba504",
   "metadata": {},
   "outputs": [],
   "source": [
    "# model.add(layers.Flatten())\n",
    "# model.add(layers.Dense(64,activation = \"relu\"))\n",
    "# model.add(layers.Dense(2,activation = \"softmax\"))\n",
    "input_shape = (512, 512, 3)\n",
    "n_classes = 2\n",
    "\n",
    "model = models.Sequential([\n",
    "    layers.InputLayer(input_shape=input_shape),\n",
    "    layers.Conv2D(32, kernel_size = (3,3), activation='relu',padding = \"same\"),\n",
    "    layers.MaxPooling2D((2, 2)),\n",
    "    layers.Conv2D(64,  kernel_size = (3,3), activation='relu'),\n",
    "    layers.MaxPooling2D((2, 2)),\n",
    "#     layers.Conv2D(64,  kernel_size = (3,3), activation='relu'),\n",
    "#     layers.MaxPooling2D((2, 2)),\n",
    "#     layers.Conv2D(64, (3, 3), activation='relu'),\n",
    "#     layers.MaxPooling2D((2, 2)),\n",
    "#     layers.Conv2D(64, (3, 3), activation='relu'),\n",
    "#     layers.MaxPooling2D((2, 2)),\n",
    "#     layers.Conv2D(64, (3, 3), activation='relu'),\n",
    "#     layers.MaxPooling2D((2, 2)),\n",
    "    layers.Flatten(),\n",
    "    layers.Dense(64, activation='relu'),\n",
    "    layers.Dense(n_classes, activation='softmax'),\n",
    "])"
   ]
  },
  {
   "cell_type": "code",
   "execution_count": 34,
   "id": "1721db22",
   "metadata": {},
   "outputs": [],
   "source": [
    "model.compile(\n",
    "    optimizer='adam',\n",
    "    loss=tf.keras.losses.SparseCategoricalCrossentropy(from_logits=False),\n",
    "    metrics=['accuracy']\n",
    ")"
   ]
  },
  {
   "cell_type": "code",
   "execution_count": 35,
   "id": "30456d34",
   "metadata": {},
   "outputs": [
    {
     "name": "stdout",
     "output_type": "stream",
     "text": [
      "Model: \"sequential_1\"\n",
      "_________________________________________________________________\n",
      " Layer (type)                Output Shape              Param #   \n",
      "=================================================================\n",
      " conv2d (Conv2D)             (None, 512, 512, 32)      896       \n",
      "                                                                 \n",
      " max_pooling2d (MaxPooling2D  (None, 256, 256, 32)     0         \n",
      " )                                                               \n",
      "                                                                 \n",
      " conv2d_1 (Conv2D)           (None, 254, 254, 64)      18496     \n",
      "                                                                 \n",
      " max_pooling2d_1 (MaxPooling  (None, 127, 127, 64)     0         \n",
      " 2D)                                                             \n",
      "                                                                 \n",
      " flatten (Flatten)           (None, 1032256)           0         \n",
      "                                                                 \n",
      " dense (Dense)               (None, 64)                66064448  \n",
      "                                                                 \n",
      " dense_1 (Dense)             (None, 2)                 130       \n",
      "                                                                 \n",
      "=================================================================\n",
      "Total params: 66,083,970\n",
      "Trainable params: 66,083,970\n",
      "Non-trainable params: 0\n",
      "_________________________________________________________________\n"
     ]
    }
   ],
   "source": [
    "(3360/ 32)\n",
    "model.summary()"
   ]
  },
  {
   "cell_type": "code",
   "execution_count": 36,
   "id": "f0010532",
   "metadata": {},
   "outputs": [
    {
     "name": "stdout",
     "output_type": "stream",
     "text": [
      "Epoch 1/13\n",
      "105/105 [==============================] - 353s 3s/step - loss: 1.1422 - accuracy: 0.8863 - val_loss: 0.1319 - val_accuracy: 0.9479\n",
      "Epoch 2/13\n",
      "105/105 [==============================] - 341s 3s/step - loss: 0.7294 - accuracy: 0.8750 - val_loss: 0.1717 - val_accuracy: 0.9583\n",
      "Epoch 3/13\n",
      "105/105 [==============================] - 353s 3s/step - loss: 0.1413 - accuracy: 0.9500 - val_loss: 0.1551 - val_accuracy: 0.9427\n",
      "Epoch 4/13\n",
      "105/105 [==============================] - 381s 4s/step - loss: 0.1312 - accuracy: 0.9551 - val_loss: 0.0957 - val_accuracy: 0.9635\n",
      "Epoch 5/13\n",
      "105/105 [==============================] - 376s 4s/step - loss: 0.1525 - accuracy: 0.9443 - val_loss: 0.1570 - val_accuracy: 0.9427\n",
      "Epoch 6/13\n",
      "105/105 [==============================] - 350s 3s/step - loss: 0.1212 - accuracy: 0.9577 - val_loss: 0.1108 - val_accuracy: 0.9740\n",
      "Epoch 7/13\n",
      "105/105 [==============================] - 367s 3s/step - loss: 0.1075 - accuracy: 0.9613 - val_loss: 0.1236 - val_accuracy: 0.9583\n",
      "Epoch 8/13\n",
      "105/105 [==============================] - 368s 3s/step - loss: 0.1090 - accuracy: 0.9619 - val_loss: 0.1438 - val_accuracy: 0.9583\n",
      "Epoch 9/13\n",
      "105/105 [==============================] - 362s 3s/step - loss: 0.0820 - accuracy: 0.9720 - val_loss: 0.0941 - val_accuracy: 0.9740\n",
      "Epoch 10/13\n",
      "105/105 [==============================] - 364s 3s/step - loss: 0.0812 - accuracy: 0.9720 - val_loss: 0.1157 - val_accuracy: 0.9635\n",
      "Epoch 11/13\n",
      "105/105 [==============================] - 359s 3s/step - loss: 0.0866 - accuracy: 0.9711 - val_loss: 0.1254 - val_accuracy: 0.9635\n",
      "Epoch 12/13\n",
      "105/105 [==============================] - 358s 3s/step - loss: 0.0726 - accuracy: 0.9738 - val_loss: 0.0731 - val_accuracy: 0.9583\n",
      "Epoch 13/13\n",
      "105/105 [==============================] - 353s 3s/step - loss: 0.0713 - accuracy: 0.9744 - val_loss: 0.1560 - val_accuracy: 0.9427\n"
     ]
    }
   ],
   "source": [
    "history = model.fit(\n",
    "    train_generator,\n",
    "    steps_per_epoch=105,\n",
    "    batch_size=32,\n",
    "    validation_data=val_generator,\n",
    "    validation_steps=6,\n",
    "    verbose=1,\n",
    "    epochs=13,\n",
    ")\n"
   ]
  },
  {
   "cell_type": "code",
   "execution_count": 37,
   "id": "f6b6a300",
   "metadata": {},
   "outputs": [
    {
     "name": "stdout",
     "output_type": "stream",
     "text": [
      "2.10.0\n"
     ]
    }
   ],
   "source": [
    "print(tf. __version__)"
   ]
  },
  {
   "cell_type": "code",
   "execution_count": 38,
   "id": "e34cf1ae",
   "metadata": {},
   "outputs": [
    {
     "data": {
      "text/plain": [
       "13.125"
      ]
     },
     "execution_count": 38,
     "metadata": {},
     "output_type": "execute_result"
    }
   ],
   "source": [
    "(420/ 32)"
   ]
  },
  {
   "cell_type": "code",
   "execution_count": 49,
   "id": "632a5c9f",
   "metadata": {},
   "outputs": [
    {
     "name": "stdout",
     "output_type": "stream",
     "text": [
      "first image to predict\n",
      "actual label: Normal\n",
      "1/1 [==============================] - 1s 540ms/step\n",
      "predicted label: Normal\n"
     ]
    },
    {
     "data": {
      "image/png": "[encoded data removed]",
      "text/plain": [
       "<Figure size 432x288 with 1 Axes>"
      ]
     },
     "metadata": {
      "needs_background": "light"
     },
     "output_type": "display_data"
    }
   ],
   "source": [
    "import numpy as np\n",
    "\n",
    "\n",
    "for image_batch, label_batch in test_generator:\n",
    "    first_image = image_batch[0]\n",
    "    first_label = int(label_batch[0])\n",
    "    \n",
    "    print(\"first image to predict\")\n",
    "    plt.imshow(first_image)\n",
    "    print(\"actual label:\",class_names[first_label])\n",
    "    \n",
    "    batch_prediction = model.predict(image_batch)\n",
    "    print(\"predicted label:\",class_names[np.argmax(batch_prediction[0])])\n",
    "    \n",
    "    break"
   ]
  },
  {
   "cell_type": "code",
   "execution_count": null,
   "id": "793a9a19",
   "metadata": {},
   "outputs": [],
   "source": []
  }
 ],
 "metadata": {
  "kernelspec": {
   "display_name": "Python 3 (ipykernel)",
   "language": "python",
   "name": "python3"
  },
  "language_info": {
   "codemirror_mode": {
    "name": "ipython",
    "version": 3
   },
   "file_extension": ".py",
   "mimetype": "text/x-python",
   "name": "python",
   "nbconvert_exporter": "python",
   "pygments_lexer": "ipython3",
   "version": "3.9.12"
  }
 },
 "nbformat": 4,
 "nbformat_minor": 5
}
